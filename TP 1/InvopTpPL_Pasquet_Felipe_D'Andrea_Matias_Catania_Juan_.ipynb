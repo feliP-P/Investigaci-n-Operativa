{
  "nbformat": 4,
  "nbformat_minor": 0,
  "metadata": {
    "colab": {
      "provenance": [],
      "toc_visible": true
    },
    "kernelspec": {
      "name": "python3",
      "display_name": "Python 3"
    },
    "language_info": {
      "name": "python"
    }
  },
  "cells": [
    {
      "cell_type": "markdown",
      "source": [
        "# Trabajo práctico - Programación Lineal\n"
      ],
      "metadata": {
        "id": "wM0El6xDu8QD"
      }
    },
    {
      "cell_type": "markdown",
      "source": [
        "Una refinería produce tres productos, combustible para aviones, combustible para vehículos y kerosene. Gracias a los buenos precios de venta que mantiene, la refinería vende todos los productos que produce. El proceso de producción se compone de refinado, fraccionado y embalaje. Para realizar estas tareas, la empresa cuenta con 4 sectores:\n",
        "\n",
        "* refinado: capacidad mensual de 38.000 horas, gasto fijo de $5.000.000\n",
        "\n",
        "* fraccionado: capacidad mensual de 80.000 horas, gasto fijo de $5.000.000\n",
        "\n",
        "* embalaje de combustible para aviones: capacidad mensual de 4.000 horas, gasto fijo de $2.000.000\n",
        "\n",
        "* embalaje de combustible para vehículos: capacidad mensual de 6.000 horas, gasto fijo de $1.000.000\n",
        "\n",
        "* embalaje de kerosene: capacidad mensual de 7.000 horas, gasto fijo de $500.000\n",
        "\n",
        "\n",
        "\n",
        "El tiempo requerido para refinar 1000 litros de combustible para aviones es de 10 horas, mientras que para fraccionarlos son necesarias 20 horas y 4 para su embalaje. Para el combustible para vehículos los tiempos son de 5, 10 y 2 horas respectivamente, y para los 1000 litros de kerosene de 3, 6 y 1 hora.\n",
        "\n",
        "\n",
        "El precio de venta es de \\$16000 para los mil litros de combustible para aviones. \\$8000 para los mil litros de combustible para vehículos. \\$4000 los mil litros de kerosene. El costo de la materia prima para mil litros de combustible para aviones es de \\$4000, el de refinado de \\$4100, el de fraccionado de \\$1000, y el de embalaje de \\$1000. Para 1000 litros de combustible para vehículos, los costos son de \\$1000, \\$3000, \\$600 y \\$500, respectivamente. Y para 1000 litros de kerosene de \\$500, \\$1500, \\$400 y \\$400.\n",
        "\n",
        "\n",
        "En el último mes, la refinería produjo 500.000 litros de combustible para aviones, 3.000.000 litros de combustible para vehículos y 6.000.000 litros de kerosene, lo que implicó una pérdida en el combustible para aviones al considerar prorrateados los gastos fijos.\n",
        "\n",
        "El gerente de ventas señaló que estudios de mercado indican que no es posible aumentar el precio de venta del combustible para aviones y, por lo tanto, para aumentar las ganancias de la empresa se debe discontinuar su producción.\n",
        "Sin embargo, la conclusión del jefe del departamento de embalaje de combustible para aviones es distinta. Según él, los gastos fijos de su sector inciden tanto en el costo de cada litro de combustible para aviones porque se produce\n",
        "poco de este producto, y para aumentar las ganancias de la empresa propone que se produzca más.\n",
        "\n",
        "En vista de las distintas propuestas, el director de la empresa necesita ayuda para evaluarlas y tomar las decisiones apropiadas. Para esto, analizar los siguientes ítems, evitando reoptimizar en todos los casos que sea posible:"
      ],
      "metadata": {
        "id": "yoZ0E4LCvL30"
      }
    },
    {
      "cell_type": "code",
      "source": [
        "!pip install cplex"
      ],
      "metadata": {
        "colab": {
          "base_uri": "https://localhost:8080/"
        },
        "id": "ImV--TvOW31L",
        "outputId": "855e9c51-cc30-4e28-8929-c1ba41a1efe0"
      },
      "execution_count": null,
      "outputs": [
        {
          "output_type": "stream",
          "name": "stdout",
          "text": [
            "Requirement already satisfied: cplex in /usr/local/lib/python3.11/dist-packages (22.1.2.0)\n"
          ]
        }
      ]
    },
    {
      "cell_type": "markdown",
      "source": [
        "##1.\n",
        "\n",
        "Calcular la ganancia o pérdida (prorrateando los gastos fijos) de cada producto que se obtuvo en el mes\n",
        "anterior (cuando se produjeron 500.000 litros de combustible para aviones, 3.000.000 de combustible para\n",
        "vehículos y 6.000.000 litros de kerosene) y la ganancia (o pérdida) total de la compañía."
      ],
      "metadata": {
        "id": "G9VhnmZWzTxC"
      }
    },
    {
      "cell_type": "code",
      "source": [
        "gastosfijorefinado = 5000000\n",
        "gastofijofraccionado = 5000000\n",
        "gastofijoembalajeAviones = 2000000\n",
        "gastofijoembalajeVehiculos = 1000000\n",
        "gastofijoembalajeKeroseno = 500000\n",
        "\n",
        "precioventaAviones = 16000\n",
        "precioventaVehiculos = 8000\n",
        "precioventaKeroseno = 4000\n",
        "\n",
        "costoCombustibleAv = 4000\n",
        "costoRefinadoAv = 4100\n",
        "costoFraccionadoAv = 1000\n",
        "costoEmbalajeAv = 1000\n",
        "\n",
        "costoCombustibleVe = 1000\n",
        "costoRefinadoVe = 3000\n",
        "costoFraccionadoVe = 600\n",
        "costoEmbalajeVe = 500\n",
        "\n",
        "costoCombustibleKer = 500\n",
        "costoRefinadoKer = 1500\n",
        "costoFraccionadoKer = 400\n",
        "costoEmbalajeKer = 400\n",
        "\n",
        "costoAviones = costoCombustibleAv + costoRefinadoAv + costoFraccionadoAv + costoEmbalajeAv\n",
        "costoVehiculos = costoCombustibleVe + costoRefinadoVe + costoFraccionadoVe + costoEmbalajeVe\n",
        "costoKeroseno = costoCombustibleKer + costoRefinadoKer + costoFraccionadoKer + costoEmbalajeKer\n",
        "\n",
        "produccionAviones = 500000\n",
        "produccionVehiculos = 3000000\n",
        "produccionKeroseno = 6000000\n",
        "\n",
        "horasrefinadototal = 10*produccionAviones + 5*produccionVehiculos + 3*produccionKeroseno\n",
        "horasfraccionadototal =  20*produccionAviones + 10*produccionVehiculos + 6*produccionKeroseno\n",
        "\n",
        "\n",
        "prorrateogastofijoaviones = (10*produccionAviones/horasrefinadototal)* gastosfijorefinado + (20*produccionAviones/horasfraccionadototal)* gastofijofraccionado\n",
        "prorrateogastofijoVehiculos = (5*produccionVehiculos/horasrefinadototal)* gastosfijorefinado + (10*produccionVehiculos/horasfraccionadototal)* gastofijofraccionado\n",
        "prorrateogastofijoKeroseno = (3*produccionKeroseno/horasrefinadototal)* gastosfijorefinado + (6*produccionKeroseno/horasfraccionadototal)* gastofijofraccionado\n",
        "\n",
        "gananciaAviones = (precioventaAviones - costoAviones)*produccionAviones/1000 - gastofijoembalajeAviones - prorrateogastofijoaviones\n",
        "gananciaVehiculos = (precioventaVehiculos - costoVehiculos)*produccionVehiculos/1000 - gastofijoembalajeVehiculos - prorrateogastofijoVehiculos\n",
        "gananciaKeroseno = (precioventaKeroseno - costoKeroseno)*produccionKeroseno/1000 - gastofijoembalajeKeroseno - prorrateogastofijoKeroseno\n",
        "gananciaTotal = gananciaAviones + gananciaVehiculos + gananciaKeroseno\n",
        "\n",
        "print(\"Ganancia Aviones: \",gananciaAviones)\n",
        "print(\"Ganancia Vehiculos: \",gananciaVehiculos)\n",
        "print(\"Ganancia Keroseno: \",gananciaKeroseno)\n",
        "print(\"Ganancia Total: \",gananciaTotal)"
      ],
      "metadata": {
        "id": "gtveokyQzhUM",
        "outputId": "b2b7d2e2-e463-440f-f3a2-4971ea3ab6b8",
        "colab": {
          "base_uri": "https://localhost:8080/"
        }
      },
      "execution_count": null,
      "outputs": [
        {
          "output_type": "stream",
          "name": "stdout",
          "text": [
            "Ganancia Aviones:  -365789.47368421056\n",
            "Ganancia Vehiculos:  3752631.5789473685\n",
            "Ganancia Keroseno:  1963157.8947368423\n",
            "Ganancia Total:  5350000.0\n"
          ]
        }
      ]
    },
    {
      "cell_type": "markdown",
      "source": [
        "##2.\n",
        "Si la empresa no hubiese producido combustible para aviones manteniendo en los mismos valores los otros productos, ¿la ganancia de la compañía habría sido mejor? Suponer que se cierra el sector de embalaje de  combustibles para aviones."
      ],
      "metadata": {
        "id": "2117VZPzzkfw"
      }
    },
    {
      "cell_type": "code",
      "source": [
        "produccionAviones = 0\n",
        "gastofijoembalajeAviones = 0\n",
        "horasrefinadototal = 10*produccionAviones + 5*produccionVehiculos + 3*produccionKeroseno\n",
        "horasfraccionadototal =  20*produccionAviones + 10*produccionVehiculos + 6*produccionKeroseno\n",
        "\n",
        "prorrateogastofijoaviones = (10*produccionAviones/horasrefinadototal)* gastosfijorefinado + (20*produccionAviones/horasfraccionadototal)* gastofijofraccionado\n",
        "prorrateogastofijoVehiculos = (5*produccionVehiculos/horasrefinadototal)* gastosfijorefinado + (10*produccionVehiculos/horasfraccionadototal)* gastofijofraccionado\n",
        "prorrateogastofijoKeroseno = (3*produccionKeroseno/horasrefinadototal)* gastosfijorefinado + (6*produccionKeroseno/horasfraccionadototal)* gastofijofraccionado\n",
        "\n",
        "gananciaAviones = (precioventaAviones - costoAviones)*produccionAviones/1000 - gastofijoembalajeAviones - prorrateogastofijoaviones\n",
        "gananciaVehiculos = (precioventaVehiculos - costoVehiculos)*produccionVehiculos/1000 - gastofijoembalajeVehiculos - prorrateogastofijoVehiculos\n",
        "gananciaKeroseno = (precioventaKeroseno - costoKeroseno)*produccionKeroseno/1000 - gastofijoembalajeKeroseno - prorrateogastofijoKeroseno\n",
        "gananciaTotal = gananciaAviones + gananciaVehiculos + gananciaKeroseno\n",
        "\n",
        "print(\"Ganancia Aviones: \",gananciaAviones)\n",
        "print(\"Ganancia Vehiculos: \",gananciaVehiculos)\n",
        "print(\"Ganancia Keroseno: \",gananciaKeroseno)\n",
        "print(\"Ganancia Total: \",gananciaTotal)"
      ],
      "metadata": {
        "id": "fyQaDBHjLY8K",
        "outputId": "361ee422-229e-4c1d-b6e6-976c3ebac314",
        "colab": {
          "base_uri": "https://localhost:8080/"
        }
      },
      "execution_count": null,
      "outputs": [
        {
          "output_type": "stream",
          "name": "stdout",
          "text": [
            "Ganancia Aviones:  0.0\n",
            "Ganancia Vehiculos:  3154545.454545455\n",
            "Ganancia Keroseno:  1245454.5454545459\n",
            "Ganancia Total:  4400000.000000001\n"
          ]
        }
      ]
    },
    {
      "cell_type": "markdown",
      "source": [
        "Podemos observar que si bien el combustible de aviones ya \"no producen perdida\", los gastos fijos de refinado y fraccionado ahora recaen únicamente sobre el keroseno y el combustible para vehículos. Lo que impacta sobre la ganancia de estos artículos reduciendola, y finalmente la ganancia total es menor."
      ],
      "metadata": {
        "id": "em32vZiGL3Yx"
      }
    },
    {
      "cell_type": "markdown",
      "source": [
        "## 3.\n",
        "¿Y si hubiese aumentado lo máximo posible la producción de los otros productos? Suponer que se cierra el\n",
        "sector de embalaje de combustibles para aviones."
      ],
      "metadata": {
        "id": "iSa37VH2zrdJ"
      }
    },
    {
      "cell_type": "code",
      "source": [
        "import cplex"
      ],
      "metadata": {
        "id": "GXvfbRe9YN8q"
      },
      "execution_count": null,
      "outputs": []
    },
    {
      "cell_type": "code",
      "source": [
        "# 1. Inicializar CPLEX\n",
        "prob = cplex.Cplex()\n",
        "\n",
        "# 2. Definir el tipo de problema\n",
        "prob.objective.set_sense(prob.objective.sense.maximize)\n",
        "\n",
        "# 3. Definir las variables\n",
        "nombres_variables = [\"ca\", \"cv\", \"ck\"]\n",
        "cotas_superiores = [0, cplex.infinity, cplex.infinity]\n",
        "prob.variables.add(obj=[16000 - 10100, 8000-5100, 4000-2800], ub=cotas_superiores, names=nombres_variables) #\n",
        "\n",
        "# 4. Definir las restricciones\n",
        "nombres_restricciones = [\"Purificado\", \"Fraccionado\",\"embalajeAutos\",\"embalajeVehiculos\",\"embalajeKerosen\"]\n",
        "filas = [\n",
        "    [[\"ca\", \"cv\",\"ck\"], [10, 5,3]],  # 10ca + 5cv + 3ck <= 38000\n",
        "    [[\"ca\", \"cv\",\"ck\"], [20, 10,6]],    #  20ca +   10cv + 6ck <= 80000\n",
        "    [[\"ca\", \"cv\",\"ck\"], [4, 0, 0]],     # 4ca 4000\n",
        "    [[\"ca\", \"cv\",\"ck\"], [0, 2, 0]],\n",
        "    [[\"ca\", \"cv\",\"ck\"], [0, 0, 1]],\n",
        "]\n",
        "sentidos = [\"L\", \"L\",\"L\",\"L\",\"L\"]  # L: <=, G: >=, E: =\n",
        "lados_derechos = [38000, 80000,4000,6000,7000]\n",
        "prob.linear_constraints.add(lin_expr=filas, senses=sentidos, rhs=lados_derechos, names=nombres_restricciones)\n",
        "\n",
        "# Para depurar el codigo\n",
        "prob.write('ejemplo1.lp')\n",
        "\n",
        "# 5. Resolver el problema\n",
        "prob.solve()\n",
        "\n",
        "# 6. Mostrar la solucion\n",
        "print('--------------------------------------------------')\n",
        "print(\"Estado de la solución:\", prob.solution.get_status_string(status_code = prob.solution.get_status()))\n",
        "print(\"Valor objetivo:\", prob.solution.get_objective_value())\n",
        "print(\"Solución:\", prob.solution.get_values())"
      ],
      "metadata": {
        "colab": {
          "base_uri": "https://localhost:8080/"
        },
        "id": "qUZjhx12XqT2",
        "outputId": "5a144936-d9d1-473e-a890-0b6c5338956f"
      },
      "execution_count": null,
      "outputs": [
        {
          "output_type": "stream",
          "name": "stderr",
          "text": [
            "Warning:  Output names have been modified due to duplicate names or characters invalid in LP format.\n"
          ]
        },
        {
          "output_type": "stream",
          "name": "stdout",
          "text": [
            "Version identifier: 22.1.2.0 | 2024-12-10 | f4cec290b\n",
            "CPXPARAM_Read_DataCheck                          1\n",
            "Tried aggregator 1 time.\n",
            "LP Presolve eliminated 5 rows and 3 columns.\n",
            "All rows and columns eliminated.\n",
            "Presolve time = 0.00 sec. (0.00 ticks)\n",
            "--------------------------------------------------\n",
            "Estado de la solución: optimal\n",
            "Valor objetivo: 17100000.0\n",
            "Solución: [0.0, 3000.0, 7000.0]\n"
          ]
        }
      ]
    },
    {
      "cell_type": "code",
      "source": [
        "gananciatotal = 17100000-11500000\n",
        "print(gananciatotal)"
      ],
      "metadata": {
        "colab": {
          "base_uri": "https://localhost:8080/"
        },
        "id": "m5jtWtQde6zW",
        "outputId": "c86b0b9c-99cb-45d0-ddad-054d5b8fecec"
      },
      "execution_count": null,
      "outputs": [
        {
          "output_type": "stream",
          "name": "stdout",
          "text": [
            "5600000\n"
          ]
        }
      ]
    },
    {
      "cell_type": "markdown",
      "source": [
        "después de descontar los costos fijos de refinado, fraccionado y embalaje tanto de combustible para vehiculos como de kerosen, la ganancia final que nos queda es $5600000. Efectivamente esta ganancia es mayor a la que teníamos antes.\n"
      ],
      "metadata": {
        "id": "3hOYYtTxfG5p"
      }
    },
    {
      "cell_type": "markdown",
      "source": [
        "##4.\n",
        "Determinar la cantidad óptima de producción mensual de cada producto para maximizar la ganancia de la\n",
        "compañía.\n"
      ],
      "metadata": {
        "id": "EGAPrHi7zvON"
      }
    },
    {
      "cell_type": "code",
      "source": [
        "# 1. Inicializar CPLEX\n",
        "prob = cplex.Cplex()\n",
        "\n",
        "# 2. Definir el tipo de problema\n",
        "prob.objective.set_sense(prob.objective.sense.maximize)\n",
        "\n",
        "# 3. Definir las variables\n",
        "nombres_variables = [\"ca\", \"cv\", \"ck\"]\n",
        "cotas_superiores = [cplex.infinity, cplex.infinity, cplex.infinity]\n",
        "prob.variables.add(obj=[16000 - 10100, 8000-5100, 4000-2800], ub=cotas_superiores, names=nombres_variables) #restando a la ganancia los costos de materia prima\n",
        "\n",
        "# 4. Definir las restricciones\n",
        "nombres_restricciones = [\"Refinado\", \"Fraccionado\",\"embalajeAutos\",\"embalajeVehiculos\",\"embalajeKerosen\"]\n",
        "filas = [\n",
        "    [[\"ca\", \"cv\",\"ck\"], [10, 5,3]],  # 10ca + 5cv + 3ck <= 38000\n",
        "    [[\"ca\", \"cv\",\"ck\"], [20, 10,6]],    #  20ca +   10cv + 6ck <= 80000\n",
        "    [[\"ca\", \"cv\",\"ck\"], [4, 0, 0]],     # 4ca <= 4000\n",
        "    [[\"ca\", \"cv\",\"ck\"], [0, 2, 0]],     #2cv <= 6000\n",
        "    [[\"ca\", \"cv\",\"ck\"], [0, 0, 1]],    #ck <= 7000\n",
        "]\n",
        "sentidos = [\"L\", \"L\",\"L\",\"L\",\"L\"]  # L: <=, G: >=, E: =\n",
        "lados_derechos = [38000, 80000,4000,6000,7000]\n",
        "prob.linear_constraints.add(lin_expr=filas, senses=sentidos, rhs=lados_derechos, names=nombres_restricciones)\n",
        "\n",
        "# Para depurar el codigo\n",
        "prob.write('ejemplo1.lp')\n",
        "\n",
        "# 5. Resolver el problema\n",
        "prob.solve()\n",
        "\n",
        "# 6. Mostrar la solucion\n",
        "print('--------------------------------------------------')\n",
        "print(\"Estado de la solución:\", prob.solution.get_status_string(status_code = prob.solution.get_status()))\n",
        "print(\"Valor objetivo:\", prob.solution.get_objective_value())\n",
        "print(\"Solución:\", prob.solution.get_values())"
      ],
      "metadata": {
        "colab": {
          "base_uri": "https://localhost:8080/"
        },
        "id": "x9YBZ3vffjOi",
        "outputId": "d1d1dea5-d36b-4611-abc1-052f76e1e1cf"
      },
      "execution_count": null,
      "outputs": [
        {
          "output_type": "stream",
          "name": "stderr",
          "text": [
            "Warning:  Output names have been modified due to duplicate names or characters invalid in LP format.\n"
          ]
        },
        {
          "output_type": "stream",
          "name": "stdout",
          "text": [
            "Version identifier: 22.1.2.0 | 2024-12-10 | f4cec290b\n",
            "CPXPARAM_Read_DataCheck                          1\n",
            "Tried aggregator 1 time.\n",
            "LP Presolve eliminated 4 rows and 0 columns.\n",
            "Reduced LP has 1 rows, 3 columns, and 3 nonzeros.\n",
            "Presolve time = 0.01 sec. (0.00 ticks)\n",
            "\n",
            "Iteration log . . .\n",
            "Iteration:     1   Dual objective     =      19800000.000000\n",
            "--------------------------------------------------\n",
            "Estado de la solución: optimal\n",
            "Valor objetivo: 19800000.0\n",
            "Solución: [1000.0, 3000.0, 4333.333333333333]\n"
          ]
        }
      ]
    },
    {
      "cell_type": "code",
      "source": [
        "gananciatotal = 19800000 - 13500000\n",
        "print(gananciatotal)"
      ],
      "metadata": {
        "colab": {
          "base_uri": "https://localhost:8080/"
        },
        "id": "k9YnFu9Hfu_l",
        "outputId": "5bb083d4-f3fc-49af-dc08-3d40dd4268ef"
      },
      "execution_count": null,
      "outputs": [
        {
          "output_type": "stream",
          "name": "stdout",
          "text": [
            "6300000\n"
          ]
        }
      ]
    },
    {
      "cell_type": "markdown",
      "source": [
        "La ganancia total, luego de descontar los gastos, es de $6.300.000, que es la mayor hasta el momento"
      ],
      "metadata": {
        "id": "eYsO_OxNf737"
      }
    },
    {
      "cell_type": "markdown",
      "source": [
        "##5.\n",
        "Indicar al director estas cantidades, el costo por 1000 litros de cada producto\n",
        "(prorrateando los costos fijos) y la ganancia total de la empresa."
      ],
      "metadata": {
        "id": "I5EIg39iM-Im"
      }
    },
    {
      "cell_type": "code",
      "source": [
        "# Producción óptima (resultado del punto 4)\n",
        "produccionAviones = 1000\n",
        "produccionVehiculos = 3000\n",
        "produccionKeroseno = 4333.333333333\n",
        "\n",
        "# Costos variables por 1000 L\n",
        "costoAviones = 4000\n",
        "costoVehiculos = 3000\n",
        "costoKeroseno = 1000\n",
        "\n",
        "# Precios de venta por 1000 L\n",
        "precioAviones = 12000\n",
        "precioVehiculos = 10000\n",
        "precioKeroseno = 5000\n",
        "\n",
        "# Gasto fijo común\n",
        "gastoFijoRefinado = 5000000\n",
        "gastoFijoFraccionado = 5000000\n",
        "\n",
        "# Gasto fijo específico de embalaje\n",
        "gastoFijoEmbalajeAviones = 500000\n",
        "gastoFijoEmbalajeVehiculos = 1000000\n",
        "gastoFijoEmbalajeKeroseno = 1500000\n",
        "\n",
        "# Horas necesarias por 1000 L\n",
        "refAviones = 10\n",
        "refVehiculos = 5\n",
        "refKeroseno = 3\n",
        "fracAviones = 20\n",
        "fracVehiculos = 10\n",
        "fracKeroseno = 6\n",
        "\n",
        "# Cálculo de horas totales utilizadas por cada producto\n",
        "horasRefAviones = produccionAviones  / refAviones\n",
        "horasRefVehiculos = produccionVehiculos / refVehiculos\n",
        "horasRefKeroseno = produccionKeroseno / refKeroseno\n",
        "totalHorasRefinado = horasRefAviones + horasRefVehiculos + horasRefKeroseno\n",
        "\n",
        "horasFracAviones = produccionAviones / fracAviones\n",
        "horasFracVehiculos = produccionVehiculos / fracVehiculos\n",
        "horasFracKeroseno = produccionKeroseno / fracKeroseno\n",
        "totalHorasFraccionado = horasFracAviones + horasFracVehiculos + horasFracKeroseno\n",
        "\n",
        "# Prorrateo de gastos fijos comunes\n",
        "prorrateoRefAviones = gastoFijoRefinado * horasRefAviones / totalHorasRefinado\n",
        "prorrateoRefVehiculos = gastoFijoRefinado * horasRefVehiculos / totalHorasRefinado\n",
        "prorrateoRefKeroseno = gastoFijoRefinado * horasRefKeroseno / totalHorasRefinado\n",
        "\n",
        "prorrateoFracAviones = gastoFijoFraccionado * horasFracAviones / totalHorasFraccionado\n",
        "prorrateoFracVehiculos = gastoFijoFraccionado * horasFracVehiculos / totalHorasFraccionado\n",
        "prorrateoFracKeroseno = gastoFijoFraccionado * horasFracKeroseno / totalHorasFraccionado\n",
        "\n",
        "# Costos totales por 1000 litros\n",
        "costototalAviones_1000L = (\n",
        "    costoAviones +\n",
        "    (prorrateoRefAviones + prorrateoFracAviones + gastoFijoEmbalajeAviones) / produccionAviones\n",
        ")\n",
        "\n",
        "costototalVehiculos_1000L = (\n",
        "    costoVehiculos +\n",
        "    (prorrateoRefVehiculos + prorrateoFracVehiculos + gastoFijoEmbalajeVehiculos) / produccionVehiculos\n",
        ")\n",
        "\n",
        "costototalKeroseno_1000L = (\n",
        "    costoKeroseno +\n",
        "    (prorrateoRefKeroseno + prorrateoFracKeroseno + gastoFijoEmbalajeKeroseno) / produccionKeroseno\n",
        ")\n",
        "\n",
        "# Ganancias por producto\n",
        "gananciaAviones = (precioAviones - costototalAviones_1000L) * produccionAviones / 1000\n",
        "gananciaVehiculos = (precioVehiculos - costototalVehiculos_1000L) * produccionVehiculos / 1000\n",
        "gananciaKeroseno = (precioKeroseno - costototalKeroseno_1000L) * produccionKeroseno / 1000\n",
        "gananciaTotal = gananciaAviones + gananciaVehiculos + gananciaKeroseno\n",
        "\n",
        "print(\"\\n--- Costos totales por cada 1000 litros (con prorrateo) ---\")\n",
        "print(\"Costo Aviones por 1000 L: \", round(costototalAviones_1000L, 2))\n",
        "print(\"Costo Vehículos por 1000 L: \", round(costototalVehiculos_1000L, 2))\n",
        "print(\"Costo Keroseno por 1000 L: \", round(costototalKeroseno_1000L, 2))\n",
        "\n",
        "print(\"\\n--- Producción óptima ---\")\n",
        "print(\"Aviones: \", produccionAviones)\n",
        "print(\"Vehículos: \", produccionVehiculos)\n",
        "print(\"Keroseno: \", round(produccionKeroseno, 2))\n",
        "\n",
        "print(\"\\n--- Ganancias ---\")\n",
        "print(\"Ganancia Aviones: \", round(gananciaAviones, 2))\n",
        "print(\"Ganancia Vehículos: \", round(gananciaVehiculos, 2))\n",
        "print(\"Ganancia Keroseno: \", round(gananciaKeroseno, 2))\n",
        "print(\"Ganancia Total: \", round(gananciaTotal, 2))\n"
      ],
      "metadata": {
        "colab": {
          "base_uri": "https://localhost:8080/"
        },
        "id": "7yFhTaWxtiaQ",
        "outputId": "04b11abe-7e1f-4b4d-a289-48715baa14bc"
      },
      "execution_count": null,
      "outputs": [
        {
          "output_type": "stream",
          "name": "stdout",
          "text": [
            "\n",
            "--- Costos totales por cada 1000 litros (con prorrateo) ---\n",
            "Costo Aviones por 1000 L:  4966.32\n",
            "Costo Vehículos por 1000 L:  4265.98\n",
            "Costo Keroseno por 1000 L:  2900.56\n",
            "\n",
            "--- Producción óptima ---\n",
            "Aviones:  1000\n",
            "Vehículos:  3000\n",
            "Keroseno:  4333.33\n",
            "\n",
            "--- Ganancias ---\n",
            "Ganancia Aviones:  7033.68\n",
            "Ganancia Vehículos:  17202.07\n",
            "Ganancia Keroseno:  9097.58\n",
            "Ganancia Total:  33333.33\n"
          ]
        }
      ]
    },
    {
      "cell_type": "markdown",
      "source": [
        "##6.\n",
        "Al escuchar esto, el gerente de producción propuso aumentar la producción contratando 500 horas extras al mes del personal del sector de fraccionado. Asesorar al director sobre esta propuesta."
      ],
      "metadata": {
        "id": "RO8Z0u--NJLS"
      }
    },
    {
      "cell_type": "markdown",
      "source": [
        "Sabemos que el diccionario optimo tiene la siguiente forma matricial:\n",
        "\n",
        "$Xb^* = B^{-1*}b - B^{-1*} An^*Xn$\n",
        "\n",
        "$z^* = Cb^*B^{-1*}b + (Cn^* - Cb^*B^{-1*}An^*)Xn$\n"
      ],
      "metadata": {
        "id": "n-0vK-L-vlIG"
      }
    },
    {
      "cell_type": "code",
      "source": [
        "# Access the solution object and then the basis object to get the basis status\n",
        "base = prob.solution.basis.get_basis()\n",
        "primal_values = prob.solution.get_values()\n",
        "dual_values = prob.solution.get_dual_values()\n",
        "costos_reducidos = prob.solution.get_reduced_costs()\n",
        "\n",
        "# You can then print or use the basis_status which is a tuple containing\n",
        "# the basis status for variables and linear constraints\n",
        "print(\"Base (Variables, Restricciones Slack):\", base)\n",
        "print(\"Valores Primales:\", primal_values)\n",
        "print(\"Valores Duales:\", dual_values)\n",
        "print(\"Costos Reducidos:\", costos_reducidos)"
      ],
      "metadata": {
        "colab": {
          "base_uri": "https://localhost:8080/"
        },
        "id": "f_le5I86HLrK",
        "outputId": "302024c8-7211-4373-fa55-c7260343a296"
      },
      "execution_count": null,
      "outputs": [
        {
          "output_type": "stream",
          "name": "stdout",
          "text": [
            "Base (Variables, Restricciones Slack): ([1, 1, 1], [0, 1, 0, 0, 1])\n",
            "Valores Primales: [1000.0, 3000.0, 4333.333333333333]\n",
            "Valores Duales: [400.0, -0.0, 475.0000000000001, 450.0000000000001, -0.0]\n",
            "Costos Reducidos: [0.0, 0.0, 0.0]\n"
          ]
        }
      ]
    },
    {
      "cell_type": "markdown",
      "source": [
        "Al aumentar las horas del sector de fraccionado, estamos aumentando nuestra segunda restricción. Lo que estamos modificando en nuestra forma matricial es el vector  $b$   $( b_2 )$. Como estamos aumentando las restricciones, nuestra región factible está aumentando, es decir todas las soluciones que antes eran factibles lo siguen siendo, y ahora hay más soluciones factibles. Esto nos dice que nuestra solución óptima también sigue siendo factible. Como no cambiamos la función objetivo, entonces deducimos que al aumentar una restricción nuestro valor objetivo solo puede o aumentar o mantenerse igual.\n",
        "\n",
        "También podemos observar que el valor dual asociado a la segunda restricción $y_2 = 0$. Esto nos dice que si aumentamos o disminuimos poco esa restricción, no va a afectar a nuestro valor objetivo, pues esta restricción actualmente no está siendo saturada.\n",
        "\n",
        "Por todo esto podríamos aconsejarle al gerente que contratar horas extras en el sector de fraccionado no nos va a dar más ganancias actualmente."
      ],
      "metadata": {
        "id": "IThxIsp75op-"
      }
    },
    {
      "cell_type": "markdown",
      "source": [
        "De todas maneras vamos a terminar de analizar la información que tenemos disponible y armar el diccionario optimo para todo el resto del análisis.\n",
        "\n",
        "Podemos ver que las 3 variables (ca, cv, ck) estan en la base. Ademas podemos ver que la variables slack asociadas a la segunda y quinta restriccion tambien estan en la base ($x_5,x_8$).\n",
        "\n",
        "Es decir que los valores primales = $Xb^* = [1000, 3000, 4333.333, x_5, x_8]$\n",
        "\n",
        "Tambien observamos que:\n",
        "\n",
        "Costos reducidos = $(Cn^* - Cb^*B^{-1*}An^*) = [0,0,0]$\n",
        "\n",
        "Valores duales/solución dual = $Cb^*B^{-1*} = [400, 0, 475, 450, 0]$"
      ],
      "metadata": {
        "id": "vr43lvhKNHjH"
      }
    },
    {
      "cell_type": "markdown",
      "source": [
        "$B^* =\n",
        " \\begin{pmatrix}\n",
        "  10 & 5 & 3 & 0 & 0 \\\\\n",
        "  20 & 10 & 6 & 1 & 0 \\\\\n",
        "  4  & 0  & 0 & 0 & 0  \\\\\n",
        "  0 & 2 & 0 & 0 & 0 \\\\\n",
        "  0 & 0 & 1 & 0 & 1\n",
        " \\end{pmatrix}\n",
        " A_n^* =\n",
        " \\begin{pmatrix}\n",
        "  1 & 0 & 0  \\\\\n",
        "  0 & 0 & 0 \\\\\n",
        "  0  & 1  & 0   \\\\\n",
        "  0 & 0 & 1  \\\\\n",
        "  0 & 0 & 0\n",
        " \\end{pmatrix}\n",
        "b =\\begin{pmatrix}\n",
        " 38000\\\\\n",
        " 80000\\\\\n",
        " 4000\\\\\n",
        " 6000\\\\\n",
        " 7000\n",
        " \\end{pmatrix}\n",
        "C_b = \\begin{pmatrix}\n",
        " 5.900\\\\\n",
        " 2.900\\\\\n",
        " 1.200\\\\\n",
        " 0\\\\\n",
        " 0\n",
        " \\end{pmatrix}\n",
        " C_n = \\begin{pmatrix}\n",
        " 0\\\\\n",
        " 0\\\\\n",
        " 0\n",
        " \\end{pmatrix}$\n",
        "\n",
        ".\n",
        "\n",
        "Teniendo $B$ calculamos $B^{-1}$\n",
        "\n",
        "$B^{-1*} =\n",
        " \\begin{pmatrix}\n",
        "  0 & 0 & 1/4 & 0 & 0 \\\\\n",
        "  0 & 0 & 0 & 1/2 & 0 \\\\\n",
        "  1/3  & 0  & -5/6 & -5/6 & 0  \\\\\n",
        "  -2 & 1 & 0 & 0 & 0 \\\\\n",
        "  -1/3 & 0 & 5/6 & 5/6 & 1\n",
        " \\end{pmatrix} $\n",
        "\n",
        "Y tambien deducimos el valor de $x_5,x_8$:\n",
        "\n",
        "$Xb^* = [1000, 3000, 4333.333, 4000, 2666.666]$"
      ],
      "metadata": {
        "id": "Xm6dZCv2aFyE"
      }
    },
    {
      "cell_type": "markdown",
      "source": [
        "Al aumentar las horas del sector de fraccionado, estamos aumentando nuestra segunda restriccion. Lo que estamos modificando en nuestra forma matricial es el vector $b$ ($b_2$), y esto podria generar que nuestro diccionario no sea mas factible, si $X_b = B^{-1*}b < 0$.\n",
        "\n",
        "$B^{-1}\\begin{pmatrix}\n",
        " 38000\\\\\n",
        " b2\\\\\n",
        " 4000\\\\\n",
        " 6000\\\\\n",
        " 7000\n",
        " \\end{pmatrix} =\n",
        "  \\begin{pmatrix}\n",
        "  0 & 0 & 1/4 & 0 & 0 \\\\\n",
        "  0 & 0 & 0 & 1/2 & 0 \\\\\n",
        "  1/3  & 0  & -5/6 & -5/6 & 0  \\\\\n",
        "  -2 & 1 & 0 & 0 & 0 \\\\\n",
        "  -1/3 & 0 & 5/6 & 5/6 & 1\n",
        " \\end{pmatrix}\n",
        " \\begin{pmatrix}\n",
        " 38000\\\\\n",
        " b2\\\\\n",
        " 4000\\\\\n",
        " 6000\\\\\n",
        " 7000\n",
        " \\end{pmatrix}\n",
        " $\n",
        "\n",
        " Podemos ver que la unica opcion de que $b2$ haga infactible a nuestro diccionario es si:\n",
        "\n",
        " $b_2 -2*38000 < 0 $ --> $b_2 < 76000$"
      ],
      "metadata": {
        "id": "qAS-S0qyxTVa"
      }
    },
    {
      "cell_type": "code",
      "source": [
        "# 1. Inicializar CPLEX\n",
        "prob = cplex.Cplex()\n",
        "\n",
        "# 2. Definir el tipo de problema\n",
        "prob.objective.set_sense(prob.objective.sense.maximize)\n",
        "\n",
        "# 3. Definir las variables\n",
        "nombres_variables = [\"ca\", \"cv\", \"ck\"]\n",
        "cotas_superiores = [cplex.infinity, cplex.infinity, cplex.infinity]\n",
        "prob.variables.add(obj=[16000 - 10100, 8000-5100, 4000-2800], ub=cotas_superiores, names=nombres_variables) #restando a la ganancia los costos de materia prima\n",
        "\n",
        "# 4. Definir las restricciones\n",
        "nombres_restricciones = [\"Refinado\", \"Fraccionado\",\"embalajeAutos\",\"embalajeVehiculos\",\"embalajeKerosen\"]\n",
        "filas = [\n",
        "    [[\"ca\", \"cv\",\"ck\"], [10, 5,3]],  # 10ca + 5cv + 3ck <= 38000\n",
        "    [[\"ca\", \"cv\",\"ck\"], [20, 10,6]],    #  20ca +   10cv + 6ck <= 80000\n",
        "    [[\"ca\", \"cv\",\"ck\"], [4, 0, 0]],     # 4ca <= 4000\n",
        "    [[\"ca\", \"cv\",\"ck\"], [0, 2, 0]],     #2cv <= 6000\n",
        "    [[\"ca\", \"cv\",\"ck\"], [0, 0, 1]],    #ck <= 7000\n",
        "]\n",
        "sentidos = [\"L\", \"L\",\"L\",\"L\",\"L\"]  # L: <=, G: >=, E: =\n",
        "lados_derechos = [38000, 80500,4000,6000,7000] # Aqui aumentamos 80000 a 80500 (horas de fraccionado)\n",
        "prob.linear_constraints.add(lin_expr=filas, senses=sentidos, rhs=lados_derechos, names=nombres_restricciones)\n",
        "\n",
        "# Para depurar el codigo\n",
        "prob.write('ejemplo1.lp')\n",
        "\n",
        "# 5. Resolver el problema\n",
        "prob.solve()\n",
        "\n",
        "# 6. Mostrar la solucion\n",
        "print('--------------------------------------------------')\n",
        "print(\"Estado de la solución:\", prob.solution.get_status_string(status_code = prob.solution.get_status()))\n",
        "print(\"Valor objetivo:\", prob.solution.get_objective_value())\n",
        "print(\"Solución:\", prob.solution.get_values())"
      ],
      "metadata": {
        "colab": {
          "base_uri": "https://localhost:8080/"
        },
        "id": "1eMnZwg_vuy_",
        "outputId": "daa01312-fe69-4cbf-f097-3d1ac763ccaa"
      },
      "execution_count": null,
      "outputs": [
        {
          "output_type": "stream",
          "name": "stderr",
          "text": [
            "Warning:  Output names have been modified due to duplicate names or characters invalid in LP format.\n"
          ]
        },
        {
          "output_type": "stream",
          "name": "stdout",
          "text": [
            "Version identifier: 22.1.2.0 | 2024-12-10 | f4cec290b\n",
            "CPXPARAM_Read_DataCheck                          1\n",
            "Tried aggregator 1 time.\n",
            "LP Presolve eliminated 4 rows and 0 columns.\n",
            "Reduced LP has 1 rows, 3 columns, and 3 nonzeros.\n",
            "Presolve time = 0.00 sec. (0.00 ticks)\n",
            "\n",
            "Iteration log . . .\n",
            "Iteration:     1   Dual objective     =      19800000.000000\n",
            "--------------------------------------------------\n",
            "Estado de la solución: optimal\n",
            "Valor objetivo: 19800000.0\n",
            "Solución: [1000.0, 3000.0, 4333.333333333333]\n"
          ]
        }
      ]
    },
    {
      "cell_type": "markdown",
      "source": [
        "##7.\n",
        "Otra propuesta del gerente es contratar 1000 horas extras al mes del personal del sector de refinado. Indicar\n",
        "al director si es conveniente aceptar esta nueva propuesta y hasta cuánto debería pagar por cada hora extra\n",
        "de este sector.\n"
      ],
      "metadata": {
        "id": "L0Q-OOl3NVd7"
      }
    },
    {
      "cell_type": "markdown",
      "source": [
        "Como dijimos en el punto anterior al  aumentar una restricción,  la función objetivo puede o aumentar o mantenerse igual. En este caso queremos modificar la primer restricción y a diferencia del punto anterior, en este caso podemos observar que la variable $y_1$ asociada a esta restricción vale 400. Es decir que por cada unidad que aumentemos la primer restricción, nuestra función objetivo aumentara en 400, así que en principio si nos sirve contratar horas extras."
      ],
      "metadata": {
        "id": "b79Jd6V_ZhMG"
      }
    },
    {
      "cell_type": "code",
      "source": [
        "# 1. Inicializar CPLEX\n",
        "prob = cplex.Cplex()\n",
        "\n",
        "# 2. Definir el tipo de problema\n",
        "prob.objective.set_sense(prob.objective.sense.maximize)\n",
        "\n",
        "# 3. Definir las variables\n",
        "nombres_variables = [\"ca\", \"cv\", \"ck\"]\n",
        "cotas_superiores = [cplex.infinity, cplex.infinity, cplex.infinity]\n",
        "prob.variables.add(obj=[16000 - 10100, 8000-5100, 4000-2800], ub=cotas_superiores, names=nombres_variables) #restando a la ganancia los costos de materia prima\n",
        "\n",
        "# 4. Definir las restricciones\n",
        "nombres_restricciones = [\"Refinado\", \"Fraccionado\",\"embalajeAutos\",\"embalajeVehiculos\",\"embalajeKerosen\"]\n",
        "filas = [\n",
        "    [[\"ca\", \"cv\",\"ck\"], [10, 5,3]],  # 10ca + 5cv + 3ck <= 38000\n",
        "    [[\"ca\", \"cv\",\"ck\"], [20, 10,6]],    #  20ca +   10cv + 6ck <= 80000\n",
        "    [[\"ca\", \"cv\",\"ck\"], [4, 0, 0]],     # 4ca <= 4000\n",
        "    [[\"ca\", \"cv\",\"ck\"], [0, 2, 0]],     #2cv <= 6000\n",
        "    [[\"ca\", \"cv\",\"ck\"], [0, 0, 1]],    #ck <= 7000\n",
        "]\n",
        "sentidos = [\"L\", \"L\",\"L\",\"L\",\"L\"]  # L: <=, G: >=, E: =\n",
        "lados_derechos = [39000, 80500,4000,6000,7000] # Aqui aumentamos 80000 a 80500 (horas de fraccionado) y de 38000 a 39000 (horas de refinado)\n",
        "prob.linear_constraints.add(lin_expr=filas, senses=sentidos, rhs=lados_derechos, names=nombres_restricciones)\n",
        "\n",
        "# Para depurar el codigo\n",
        "prob.write('ejemplo1.lp')\n",
        "\n",
        "# 5. Resolver el problema\n",
        "prob.solve()\n",
        "\n",
        "# 6. Mostrar la solucion\n",
        "print('--------------------------------------------------')\n",
        "print(\"Estado de la solución:\", prob.solution.get_status_string(status_code = prob.solution.get_status()))\n",
        "print(\"Valor objetivo:\", prob.solution.get_objective_value())\n",
        "print(\"Solución:\", prob.solution.get_values())"
      ],
      "metadata": {
        "colab": {
          "base_uri": "https://localhost:8080/"
        },
        "id": "Bb6qS11rwgMR",
        "outputId": "44f73ad6-728f-4503-ee0b-ffc7a3578df5"
      },
      "execution_count": null,
      "outputs": [
        {
          "output_type": "stream",
          "name": "stderr",
          "text": [
            "Warning:  Output names have been modified due to duplicate names or characters invalid in LP format.\n"
          ]
        },
        {
          "output_type": "stream",
          "name": "stdout",
          "text": [
            "Version identifier: 22.1.2.0 | 2024-12-10 | f4cec290b\n",
            "CPXPARAM_Read_DataCheck                          1\n",
            "Tried aggregator 1 time.\n",
            "LP Presolve eliminated 4 rows and 0 columns.\n",
            "Reduced LP has 1 rows, 3 columns, and 3 nonzeros.\n",
            "Presolve time = 0.00 sec. (0.00 ticks)\n",
            "\n",
            "Iteration log . . .\n",
            "Iteration:     1   Dual objective     =      20200000.000000\n",
            "--------------------------------------------------\n",
            "Estado de la solución: optimal\n",
            "Valor objetivo: 20200000.0\n",
            "Solución: [1000.0, 3000.0, 4666.666666666667]\n"
          ]
        }
      ]
    },
    {
      "cell_type": "code",
      "source": [
        "ganancia_final = 20200000 - 19800000\n",
        "valor_por_hora_extra = ganancia_final / 1000\n",
        "print(\"Valor de cada hora extra: $\",ganancia_final)\n",
        "print(\"La empresa aumenta su ganancia total en: $\",valor_por_hora_extra)"
      ],
      "metadata": {
        "colab": {
          "base_uri": "https://localhost:8080/"
        },
        "id": "ytn8lwDywz7g",
        "outputId": "bcec5aaa-516b-4b76-a1c8-a54f09c58f8e"
      },
      "execution_count": null,
      "outputs": [
        {
          "output_type": "stream",
          "name": "stdout",
          "text": [
            "Valor de cada hora extra: $ 400000\n",
            "La empresa aumenta su ganancia total en: $ 400.0\n"
          ]
        }
      ]
    },
    {
      "cell_type": "markdown",
      "source": [
        "La propuesta de contratar 1000 horas extras en el sector de refinado es conveniente, ya que permite aumentar las ganancias en 400,000 mensuales. Por lo tanto, la empresa podría aceptar esta propuesta si el costo por hora extra es menor o igual a 400. Cualquier monto mayor haría que la inversión no sea rentable."
      ],
      "metadata": {
        "id": "koqhoi4yx3__"
      }
    },
    {
      "cell_type": "markdown",
      "source": [
        "##8.\n",
        "Si el director decide pagar por hora extra la mitad del valor máximo indicado en el punto anterior, ¿en cuánto\n",
        "aumentaría la ganacia mensual de la compañía?\n"
      ],
      "metadata": {
        "id": "OB2NFaEYNfup"
      }
    },
    {
      "cell_type": "code",
      "source": [
        "# Datos conocidos\n",
        "ganancia_extra_bruta = 400000   # Incremento bruto en la ganancia por horas extras (del punto anterior)\n",
        "horas_extra = 1000              # Horas extras contratadas\n",
        "valor_hora_max = 400            # Valor máximo por hora extra (punto anterior)\n",
        "\n",
        "pago_hora_extra = valor_hora_max / 2\n",
        "\n",
        "costo_horas_extra = horas_extra * pago_hora_extra\n",
        "\n",
        "ganancia_neta_extra = ganancia_extra_bruta - costo_horas_extra\n",
        "\n",
        "print(f\"Si se paga {pago_hora_extra} por hora extra, la ganancia mensual aumentará en: ${ganancia_neta_extra:.2f}\")\n"
      ],
      "metadata": {
        "colab": {
          "base_uri": "https://localhost:8080/"
        },
        "id": "Uop5qGX4yQlI",
        "outputId": "0efb0d26-15fb-47fd-d697-632489f7efbd"
      },
      "execution_count": null,
      "outputs": [
        {
          "output_type": "stream",
          "name": "stdout",
          "text": [
            "Si se paga 200.0 por hora extra, la ganancia mensual aumentará en: $200000.00\n"
          ]
        }
      ]
    },
    {
      "cell_type": "markdown",
      "source": [
        "##9.\n",
        "Por otro lado, el gerente de compras propone cambiar algunos proveedores, lo que permitiría bajar el costo\n",
        "de la materia prima del aceite para vehículos de \\$1000 a \\$800 por cada 1000 litros procesados. ¿Cambiaría el\n",
        "plan de producción óptimo? Si es así, dar la nueva planificación óptima.\n"
      ],
      "metadata": {
        "id": "BzcEzX91Nhgc"
      }
    },
    {
      "cell_type": "markdown",
      "source": [
        "Queremos saber si al bajar el costo de materia prima de **cv** de $\\$1000$ a $\\$800$ cambia el plan óptimo encontrado anteriormente.\n",
        "\n",
        "Conocemos la ganancia unitaria de cada producto\n",
        "- ca: \\$16000 – (4000 + 4100 + 1000 + 1000) = **\\$4900**\n",
        "- cv: \\$8000 – (1000 + 3000 + 600 + 500) = **\\$2900** (pasa a **\\$3100**)\n",
        "- ck: \\$4000 – (500 + 1500 + 400 + 400) = **\\$1200**\n",
        "\n",
        "Sabemos que las restricciones activas son las de embalaje:\n",
        "- Embalaje $c_{a}$: 4 horas\n",
        "- Embalaje $c_{v}$: 2 horas\n",
        "- Embalaje $c_{k}$: 1 hora\n",
        "\n",
        "Entonces:\n",
        "$B = \\begin{bmatrix}\n",
        "4 & 0 & 0 \\\\\n",
        "0 & 2 & 0 \\\\\n",
        "0 & 0 & 1\n",
        "\\end{bmatrix}\n",
        "\\quad \\Rightarrow \\quad\n",
        "B^{-1} = \\begin{bmatrix}\n",
        "1/4 & 0 & 0 \\\\\n",
        "0 & 1/2 & 0 \\\\\n",
        "0 & 0 & 1\n",
        "\\end{bmatrix}$\n",
        "\n",
        "Columnas de $A_{N}$ (refinado y fraccionado)\n",
        "\n",
        "$A_{N} = \\begin{bmatrix}\n",
        "10 & 20 \\\\\n",
        "5 & 10 \\\\\n",
        "3 & 6\n",
        "\\end{bmatrix}$\n",
        "\n",
        "Ganancias básicas actualizadas :\n",
        "\n",
        "$C_{B}$ = [4900, **3100**, 1200]\n",
        "\n",
        "Cálculo de coeficientes reducidos :\n",
        "\n",
        "$\\bar{c}_{j} = c_{j} - C_{B} \\cdot B^{-1} \\cdot A_{N}$\n",
        "\n",
        "Sabemos que si todos los coeficientes reducidos se mantienen negativos, el óptimo no cambia.\n",
        "\n",
        "|                         | Refinado | Fraccionado |\n",
        "|-------------------------|----------|-------------|\n",
        "| $\\bar{c}_{j}$ antes   | –25600   | –51200      |\n",
        "| $\\bar{c}_{j}$ después | –26100   | –52200      |\n",
        "\n",
        "Los coeficientes reducidos siguen siendo negativos, por lo tanto la solución óptima se mantiene.El valor del optimo si se modifica pero no la solucion optima.    \n",
        "No es necesario reoptimizar."
      ],
      "metadata": {
        "id": "OPUaMlaq05u6"
      }
    },
    {
      "cell_type": "markdown",
      "source": [
        "##10.\n",
        "Y si se modificara el proceso de refinado de kerosene para bajar de \\$1500 a \\$900 por cada 1000 litros procesado,\n",
        "¿cambiaría el plan óptimo? Si es así, dar la nueva planificación óptima.\n"
      ],
      "metadata": {
        "id": "h7k_J7a3Nk7N"
      }
    },
    {
      "cell_type": "markdown",
      "source": [
        "busco  $C_3$ tal que  $(C_N - CbB^{-1}A_N)$ <= 0 donde $C_b = (5900,2900,C_3,0,0)$ para que la solucion siga factible.\n",
        "\n",
        "  $(0,0,0) - (5900,2900,C_3,0,0)*B^{-1}A_N <= (0,0,0)$"
      ],
      "metadata": {
        "id": "7IwrtwlkKtS9"
      }
    },
    {
      "cell_type": "markdown",
      "source": [
        "$B^{-1*}A_n =\n",
        " \\begin{pmatrix}\n",
        "  0 & 0 & 1/4 & 0 & 0 \\\\\n",
        "  0 & 0 & 0 & 1/2 & 0 \\\\\n",
        "  1/3  & 0  & -5/6 & -5/6 & 0  \\\\\n",
        "  -2 & 1 & 0 & 0 & 0 \\\\\n",
        "  -1/3 & 0 & 5/6 & 5/6 & 1\n",
        " \\end{pmatrix}\n",
        " \\begin{pmatrix}\n",
        "  1 & 0 & 0  \\\\\n",
        "  0 & 0 & 0 \\\\\n",
        "  0  & 1  & 0   \\\\\n",
        "  0 & 0 & 1  \\\\\n",
        "  0 & 0 & 0\n",
        " \\end{pmatrix}\n",
        " =\n",
        "  \\begin{pmatrix}\n",
        "  0 & 1/4 & 0  \\\\\n",
        "  0 & 0 & 1/2 \\\\\n",
        "  1/3  & -5/6  & -5/6   \\\\\n",
        "  -2 & 0 & 0  \\\\\n",
        "  -1/3 & 5/6 & 5/6\n",
        " \\end{pmatrix}\n",
        " $\n"
      ],
      "metadata": {
        "id": "wJrA2Yv4QI7Q"
      }
    },
    {
      "cell_type": "markdown",
      "source": [
        "  \n",
        " $C_b B^{-1*}A_n = (C_3/3, 1475 - 5*C_3/6, 1450 - 5*C_3/6) $\n",
        "\n",
        " Entonces $(-C_3/3, -1475 + 5*C_3/6, -1450 + 5*C_3/6) < (0,0,0)$\n",
        " $ \\implies  (C_3 > 0 , C_3 < 1770 , C_3 < 1740) $\n",
        "\n",
        " $\\implies 0< C_3 < 1740$"
      ],
      "metadata": {
        "id": "eC3UzpOiTVNZ"
      }
    },
    {
      "cell_type": "markdown",
      "source": [
        "Pero el nuevo costo de Keroseno es (4000 - 2200) = 1800 > 1740 . Por lo tanto si se modificara la solucion optima, veamoslo con el siguiente codigo :"
      ],
      "metadata": {
        "id": "xfqEbNsbTvU5"
      }
    },
    {
      "cell_type": "code",
      "source": [
        "import cplex\n",
        "\n",
        "# Datos originales\n",
        "costoAviones = 16000 - 10100\n",
        "costoVehiculos = 8000 - 5100\n",
        "\n",
        "# Nuevo costo refinado kerosene (2200 en vez de 2800 (1500-900 = 600 de diferencia en el total))\n",
        "costoKeroseno = 4000 - 2200\n",
        "\n",
        "# Crear modelo\n",
        "prob = cplex.Cplex()\n",
        "prob.objective.set_sense(prob.objective.sense.maximize)\n",
        "\n",
        "# Variables y coeficientes de la función objetivo actualizados\n",
        "nombres_variables = [\"ca\", \"cv\", \"ck\"]\n",
        "obj_coef = [costoAviones, costoVehiculos, costoKeroseno]\n",
        "prob.variables.add(obj=obj_coef, names=nombres_variables, ub=[cplex.infinity]*3)\n",
        "\n",
        "filas = [\n",
        "    [[\"ca\", \"cv\",\"ck\"], [10, 5, 3]],  # Purificado\n",
        "    [[\"ca\", \"cv\",\"ck\"], [20, 10, 6]], # Fraccionado\n",
        "    [[\"ca\", \"cv\",\"ck\"], [4, 0, 0]],   # Embalaje Aviones\n",
        "    [[\"ca\", \"cv\",\"ck\"], [0, 2, 0]],   # Embalaje Vehículos\n",
        "    [[\"ca\", \"cv\",\"ck\"], [0, 0, 1]]    # Embalaje Keroseno\n",
        "]\n",
        "sentidos = [\"L\", \"L\", \"L\", \"L\", \"L\"]\n",
        "lados_derechos = [38000, 80000, 4000, 6000, 7000]\n",
        "\n",
        "prob.linear_constraints.add(lin_expr=filas, senses=sentidos, rhs=lados_derechos)\n",
        "\n",
        "# Resolver\n",
        "prob.solve()\n",
        "\n",
        "# Mostrar resultados\n",
        "print('--------------------------------------------------')\n",
        "print(\"Estado de la solución:\", prob.solution.get_status_string())\n",
        "print(\"Valor objetivo:\", prob.solution.get_objective_value())\n",
        "print(\"Nueva planificación óptima (litros):\", prob.solution.get_values())\n"
      ],
      "metadata": {
        "colab": {
          "base_uri": "https://localhost:8080/"
        },
        "id": "41awGD5IzTjh",
        "outputId": "fb745a4d-523a-4bed-f210-8e8b06bf475c"
      },
      "execution_count": null,
      "outputs": [
        {
          "output_type": "stream",
          "name": "stdout",
          "text": [
            "Version identifier: 22.1.2.0 | 2024-12-10 | f4cec290b\n",
            "CPXPARAM_Read_DataCheck                          1\n",
            "Tried aggregator 1 time.\n",
            "LP Presolve eliminated 4 rows and 0 columns.\n",
            "Reduced LP has 1 rows, 3 columns, and 3 nonzeros.\n",
            "Presolve time = 0.00 sec. (0.00 ticks)\n",
            "\n",
            "Iteration log . . .\n",
            "Iteration:     1   Dual objective     =      22560000.000000\n",
            "--------------------------------------------------\n",
            "Estado de la solución: optimal\n",
            "Valor objetivo: 22560000.0\n",
            "Nueva planificación óptima (litros): [1000.0, 1399.999999999999, 7000.0]\n"
          ]
        }
      ]
    },
    {
      "cell_type": "markdown",
      "source": [
        "##11.\n",
        "La empresa está evaluando comenzar a procesar gasoil. El tiempo requerido para refinar 1000 litros de gasoil\n",
        "es de 4 horas, mientras que para fraccionarlos son necesarias 8 horas y para su embalaje 1.5 horas. El costo\n",
        "de la materia prima para mil litros de gasoil es de \\$4000, el de refinado de \\$4100, el de fraccionado de \\$1000.\n",
        "El embalaje de gasoil lo realizaría el sector de embalaje de kerosene. ¿Cuál debería ser el menor precio de\n",
        "venta de los 1000 litros de gasoil para que su producción sea conveniente para la empresa?\n"
      ],
      "metadata": {
        "id": "ql1kHp3tNnaH"
      }
    },
    {
      "cell_type": "markdown",
      "source": [
        "Aqui lo que estamos haciendo es procesar un nuevo producto, es decir agregamos una variable a nuestro problema de programacion lineal, buscamos el menor precio de venta para que su producción sea conveniente. Es decir, si llamamos x4 a la nueva variable, queremos $C_4$ tal que  $(C_4 - CbB^{-1}A_4)$ > 0 para que sea rentrable su producción.\n",
        "Recordemos que la nueva variable sera no basica, y $A_4 = (4,8,0,0,1.5)$\n",
        "\n",
        "Entonces $C_4 > [400,0,475,450,0] * [4,8,0,0,1.5] = 1600$\n",
        "\n",
        "$C_4$ representa la ganancia final del producto, asi que el precio final debe tener en cuenta los gastos, los cuales son por cada mil litros: \\$4000 (materia prima) + \\$4100 (refinado) + \\$1000 (fraccionado) = \\$9100\n",
        "\n",
        "Por lo tanto, **el precio de venta final para el gasoil debe ser mayor a \\$10700** para que sea rentable su producción."
      ],
      "metadata": {
        "id": "yBxlJ0zk8L1X"
      }
    },
    {
      "cell_type": "markdown",
      "source": [
        "##12.\n",
        " La empresa va a agregar un control de calidad a todos sus productos. Controlar los 1000 litros de combustible\n",
        "para aviones requiere 5 horas, los de combustible para vehículos 3 horas y 2 horas los 1000 litros de kerosene.\n",
        "Si el sector de control de calidad dispone de 20000 horas mensuales, ¿cambiaría el plan óptimo? Si es así, dar\n",
        "la nueva planificación óptima.\n"
      ],
      "metadata": {
        "id": "IndFj478NrK2"
      }
    },
    {
      "cell_type": "markdown",
      "source": [
        "El nuevo control de calidad impacta sobre nuestro modelo como una nueva restricción.\n",
        "\n",
        "$(5Ca + 3CV + 2Ck) <= 20000 $\n",
        "\n",
        "Y nuestra solución óptima es $Xb^* = [1000, 3000, 4333.333]$, la cual no cumple esta nueva restricción. Entonces tenemos que buscar la nueva planificación óptima."
      ],
      "metadata": {
        "id": "nRkSgyTUAkbf"
      }
    },
    {
      "cell_type": "code",
      "source": [
        "# 1. Inicializar CPLEX\n",
        "prob = cplex.Cplex()\n",
        "\n",
        "# 2. Definir el tipo de problema\n",
        "prob.objective.set_sense(prob.objective.sense.maximize)\n",
        "\n",
        "# 3. Definir las variables\n",
        "nombres_variables = [\"ca\", \"cv\", \"ck\"]\n",
        "cotas_superiores = [cplex.infinity, cplex.infinity, cplex.infinity]\n",
        "prob.variables.add(obj=[16000 - 10100, 8000-5100, 4000-2800], ub=cotas_superiores, names=nombres_variables) #restando a la ganancia los costos de materia prima\n",
        "\n",
        "# 4. Definir las restricciones\n",
        "nombres_restricciones = [\"Refinado\", \"Fraccionado\",\"embalajeAutos\",\"embalajeVehiculos\",\"embalajeKerosen\",\"controlCalidad\"]\n",
        "filas = [\n",
        "    [[\"ca\", \"cv\",\"ck\"], [10, 5,3]],  # 10ca + 5cv + 3ck <= 38000\n",
        "    [[\"ca\", \"cv\",\"ck\"], [20, 10,6]],    #  20ca +   10cv + 6ck <= 80000\n",
        "    [[\"ca\", \"cv\",\"ck\"], [4, 0, 0]],     # 4ca <= 4000\n",
        "    [[\"ca\", \"cv\",\"ck\"], [0, 2, 0]],     #2cv <= 6000\n",
        "    [[\"ca\", \"cv\",\"ck\"], [0, 0, 1]],    #ck <= 7000\n",
        "    [[\"ca\", \"cv\",\"ck\"], [5, 3, 2]]\n",
        "]\n",
        "sentidos = [\"L\", \"L\",\"L\",\"L\",\"L\",\"L\"]  # L: <=, G: >=, E: =\n",
        "lados_derechos = [38000, 80000,4000,6000,7000,20000]\n",
        "prob.linear_constraints.add(lin_expr=filas, senses=sentidos, rhs=lados_derechos, names=nombres_restricciones)\n",
        "\n",
        "# Para depurar el codigo\n",
        "prob.write('ejemplo1.lp')\n",
        "\n",
        "# 5. Resolver el problema\n",
        "prob.solve()\n",
        "\n",
        "# 6. Mostrar la solucion\n",
        "print('--------------------------------------------------')\n",
        "print(\"Estado de la solución:\", prob.solution.get_status_string(status_code = prob.solution.get_status()))\n",
        "print(\"Valor objetivo:\", prob.solution.get_objective_value())\n",
        "print(\"Solución:\", prob.solution.get_values())"
      ],
      "metadata": {
        "colab": {
          "base_uri": "https://localhost:8080/"
        },
        "id": "sY9TyyXdKR_y",
        "outputId": "544a72e0-5da9-4405-c520-a653db5ebd1a"
      },
      "execution_count": null,
      "outputs": [
        {
          "output_type": "stream",
          "name": "stderr",
          "text": [
            "Warning:  Output names have been modified due to duplicate names or characters invalid in LP format.\n"
          ]
        },
        {
          "output_type": "stream",
          "name": "stdout",
          "text": [
            "Version identifier: 22.1.2.0 | 2024-12-10 | f4cec290b\n",
            "CPXPARAM_Read_DataCheck                          1\n",
            "Tried aggregator 1 time.\n",
            "LP Presolve eliminated 4 rows and 0 columns.\n",
            "Reduced LP has 2 rows, 3 columns, and 6 nonzeros.\n",
            "Presolve time = 0.00 sec. (0.00 ticks)\n",
            "\n",
            "Iteration log . . .\n",
            "Iteration:     1   Dual objective     =      19800000.000000\n",
            "--------------------------------------------------\n",
            "Estado de la solución: optimal\n",
            "Valor objetivo: 18200000.0\n",
            "Solución: [1000.0, 3000.0, 3000.0]\n"
          ]
        }
      ]
    },
    {
      "cell_type": "code",
      "source": [
        "soloptima = prob.solution.get_values()\n",
        "print(\"nueva solucion optima: \", soloptima)\n",
        "gananciatotal = 18200000 - 13500000\n",
        "print(\"ganancia total: $\", gananciatotal)\n",
        "perdida = 19800000 - 13500000 - gananciatotal\n",
        "print(\"perdida (respecto a no tener control de calidad): $\", perdida)\n"
      ],
      "metadata": {
        "colab": {
          "base_uri": "https://localhost:8080/"
        },
        "id": "FfmZEEaVLcIb",
        "outputId": "4308f5dc-5747-4617-a10a-5e58270aef62"
      },
      "execution_count": null,
      "outputs": [
        {
          "output_type": "stream",
          "name": "stdout",
          "text": [
            "nueva solucion optima:  [1000.0, 3000.0, 0.0]\n",
            "ganancia total: $ 4700000\n",
            "perdida (respecto a no tener control de calidad): $ 1600000\n"
          ]
        }
      ]
    }
  ]
}